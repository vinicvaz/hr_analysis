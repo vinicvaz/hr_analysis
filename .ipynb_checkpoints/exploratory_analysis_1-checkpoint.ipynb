{
 "cells": [
  {
   "cell_type": "code",
   "execution_count": 88,
   "metadata": {},
   "outputs": [],
   "source": [
    "import pandas as pd\n",
    "import matplotlib.pyplot as plt\n",
    "import seaborn as sns\n",
    "import numpy as np\n",
    "from scipy import stats"
   ]
  },
  {
   "cell_type": "markdown",
   "metadata": {},
   "source": [
    "## 1.0 - Basic Exploratory Data Analysis"
   ]
  },
  {
   "cell_type": "code",
   "execution_count": 2,
   "metadata": {},
   "outputs": [],
   "source": [
    "df = pd.read_csv('./data/hr_dataset.csv')"
   ]
  },
  {
   "cell_type": "code",
   "execution_count": 3,
   "metadata": {},
   "outputs": [
    {
     "data": {
      "text/html": [
       "<div>\n",
       "<style scoped>\n",
       "    .dataframe tbody tr th:only-of-type {\n",
       "        vertical-align: middle;\n",
       "    }\n",
       "\n",
       "    .dataframe tbody tr th {\n",
       "        vertical-align: top;\n",
       "    }\n",
       "\n",
       "    .dataframe thead th {\n",
       "        text-align: right;\n",
       "    }\n",
       "</style>\n",
       "<table border=\"1\" class=\"dataframe\">\n",
       "  <thead>\n",
       "    <tr style=\"text-align: right;\">\n",
       "      <th></th>\n",
       "      <th>id</th>\n",
       "      <th>name</th>\n",
       "      <th>department</th>\n",
       "      <th>geo</th>\n",
       "      <th>role</th>\n",
       "      <th>rising_star</th>\n",
       "      <th>will_relocate</th>\n",
       "      <th>critical</th>\n",
       "      <th>trending perf</th>\n",
       "      <th>talent_level</th>\n",
       "      <th>validated_talent_level</th>\n",
       "      <th>percent_remote</th>\n",
       "      <th>emp_sat_onprem_1</th>\n",
       "      <th>emp_sat_onprem_2</th>\n",
       "      <th>emp_sat_onprem_3</th>\n",
       "      <th>emp_sat_onprem_4</th>\n",
       "      <th>emp_sat_onprem_5</th>\n",
       "      <th>emp_sat_remote_1</th>\n",
       "      <th>emp_sat_remote_2</th>\n",
       "      <th>emp_sat_remote_3</th>\n",
       "      <th>emp_sat_remote_4</th>\n",
       "      <th>emp_sat_remote_5</th>\n",
       "      <th>emp_engagement_1</th>\n",
       "      <th>emp_engagement_2</th>\n",
       "      <th>emp_engagement_3</th>\n",
       "      <th>emp_engagement_4</th>\n",
       "      <th>emp_engagement_5</th>\n",
       "      <th>last_evaluation</th>\n",
       "      <th>number_project</th>\n",
       "      <th>average_montly_hours</th>\n",
       "      <th>time_spend_company</th>\n",
       "      <th>work_accident</th>\n",
       "      <th>left_company</th>\n",
       "      <th>csr factor</th>\n",
       "      <th>promotion_last_5years</th>\n",
       "      <th>sales</th>\n",
       "      <th>salary</th>\n",
       "      <th>gender</th>\n",
       "      <th>linkedin_hits</th>\n",
       "      <th>emp_work_status2</th>\n",
       "      <th>emp_work_status_3</th>\n",
       "      <th>emp_work_status_4</th>\n",
       "      <th>emp_work_status_5</th>\n",
       "      <th>emp_identity</th>\n",
       "      <th>emp_role</th>\n",
       "      <th>emp_position</th>\n",
       "      <th>emp_title</th>\n",
       "      <th>women_leave</th>\n",
       "      <th>men_leave</th>\n",
       "      <th>emp_competitive_1</th>\n",
       "      <th>emp_competitive_2</th>\n",
       "      <th>emp_competitive_3</th>\n",
       "      <th>emp_competitive_4</th>\n",
       "      <th>emp_competitive_5</th>\n",
       "      <th>emp_collaborative_1</th>\n",
       "      <th>emp_collaborative_2</th>\n",
       "      <th>emp_collaborative_3</th>\n",
       "      <th>emp_collaborative_4</th>\n",
       "      <th>emp_collaborative_5</th>\n",
       "      <th>sensor_stepcount</th>\n",
       "      <th>sensor_heartbeat(average/min)</th>\n",
       "      <th>sensor_proximity(1-highest/10-lowest)</th>\n",
       "    </tr>\n",
       "  </thead>\n",
       "  <tbody>\n",
       "    <tr>\n",
       "      <th>0</th>\n",
       "      <td>1</td>\n",
       "      <td>BRADDY</td>\n",
       "      <td>Operations</td>\n",
       "      <td>US</td>\n",
       "      <td>VP</td>\n",
       "      <td>NaN</td>\n",
       "      <td>0</td>\n",
       "      <td>1.0</td>\n",
       "      <td>3</td>\n",
       "      <td>6</td>\n",
       "      <td>6</td>\n",
       "      <td>0.4</td>\n",
       "      <td>3.0</td>\n",
       "      <td>3.0</td>\n",
       "      <td>4.0</td>\n",
       "      <td>3.0</td>\n",
       "      <td>5.0</td>\n",
       "      <td>2</td>\n",
       "      <td>3</td>\n",
       "      <td>2</td>\n",
       "      <td>3</td>\n",
       "      <td>2</td>\n",
       "      <td>5</td>\n",
       "      <td>5</td>\n",
       "      <td>4</td>\n",
       "      <td>4</td>\n",
       "      <td>3</td>\n",
       "      <td>0.36</td>\n",
       "      <td>3</td>\n",
       "      <td>168</td>\n",
       "      <td>3</td>\n",
       "      <td>1</td>\n",
       "      <td>0</td>\n",
       "      <td>NaN</td>\n",
       "      <td>0</td>\n",
       "      <td>sales</td>\n",
       "      <td>low</td>\n",
       "      <td>M</td>\n",
       "      <td>5</td>\n",
       "      <td>4</td>\n",
       "      <td>3</td>\n",
       "      <td>1</td>\n",
       "      <td>1</td>\n",
       "      <td>1</td>\n",
       "      <td>1</td>\n",
       "      <td>2</td>\n",
       "      <td>1</td>\n",
       "      <td>NaN</td>\n",
       "      <td>1.0</td>\n",
       "      <td>2</td>\n",
       "      <td>4</td>\n",
       "      <td>2</td>\n",
       "      <td>2</td>\n",
       "      <td>2</td>\n",
       "      <td>2</td>\n",
       "      <td>2</td>\n",
       "      <td>2</td>\n",
       "      <td>1</td>\n",
       "      <td>5</td>\n",
       "      <td>1841</td>\n",
       "      <td>61</td>\n",
       "      <td>9</td>\n",
       "    </tr>\n",
       "    <tr>\n",
       "      <th>1</th>\n",
       "      <td>2</td>\n",
       "      <td>BORST</td>\n",
       "      <td>Sales</td>\n",
       "      <td>UK</td>\n",
       "      <td>Senior Director</td>\n",
       "      <td>NaN</td>\n",
       "      <td>0</td>\n",
       "      <td>NaN</td>\n",
       "      <td>3</td>\n",
       "      <td>6</td>\n",
       "      <td>6</td>\n",
       "      <td>0.4</td>\n",
       "      <td>3.0</td>\n",
       "      <td>3.0</td>\n",
       "      <td>4.0</td>\n",
       "      <td>3.0</td>\n",
       "      <td>5.0</td>\n",
       "      <td>2</td>\n",
       "      <td>3</td>\n",
       "      <td>2</td>\n",
       "      <td>3</td>\n",
       "      <td>2</td>\n",
       "      <td>5</td>\n",
       "      <td>5</td>\n",
       "      <td>4</td>\n",
       "      <td>4</td>\n",
       "      <td>3</td>\n",
       "      <td>0.36</td>\n",
       "      <td>5</td>\n",
       "      <td>159</td>\n",
       "      <td>2</td>\n",
       "      <td>0</td>\n",
       "      <td>0</td>\n",
       "      <td>NaN</td>\n",
       "      <td>0</td>\n",
       "      <td>accounting</td>\n",
       "      <td>low</td>\n",
       "      <td>F</td>\n",
       "      <td>58</td>\n",
       "      <td>3</td>\n",
       "      <td>3</td>\n",
       "      <td>4</td>\n",
       "      <td>3</td>\n",
       "      <td>2</td>\n",
       "      <td>1</td>\n",
       "      <td>2</td>\n",
       "      <td>1</td>\n",
       "      <td>0.0</td>\n",
       "      <td>NaN</td>\n",
       "      <td>2</td>\n",
       "      <td>2</td>\n",
       "      <td>1</td>\n",
       "      <td>4</td>\n",
       "      <td>1</td>\n",
       "      <td>3</td>\n",
       "      <td>2</td>\n",
       "      <td>5</td>\n",
       "      <td>1</td>\n",
       "      <td>5</td>\n",
       "      <td>1990</td>\n",
       "      <td>90</td>\n",
       "      <td>8</td>\n",
       "    </tr>\n",
       "    <tr>\n",
       "      <th>2</th>\n",
       "      <td>3</td>\n",
       "      <td>BIRDWELL</td>\n",
       "      <td>Finance</td>\n",
       "      <td>France</td>\n",
       "      <td>Senior Director</td>\n",
       "      <td>NaN</td>\n",
       "      <td>0</td>\n",
       "      <td>NaN</td>\n",
       "      <td>3</td>\n",
       "      <td>6</td>\n",
       "      <td>6</td>\n",
       "      <td>0.4</td>\n",
       "      <td>3.0</td>\n",
       "      <td>3.0</td>\n",
       "      <td>4.0</td>\n",
       "      <td>3.0</td>\n",
       "      <td>5.0</td>\n",
       "      <td>2</td>\n",
       "      <td>3</td>\n",
       "      <td>2</td>\n",
       "      <td>3</td>\n",
       "      <td>2</td>\n",
       "      <td>5</td>\n",
       "      <td>5</td>\n",
       "      <td>4</td>\n",
       "      <td>4</td>\n",
       "      <td>3</td>\n",
       "      <td>0.36</td>\n",
       "      <td>2</td>\n",
       "      <td>282</td>\n",
       "      <td>3</td>\n",
       "      <td>0</td>\n",
       "      <td>0</td>\n",
       "      <td>NaN</td>\n",
       "      <td>0</td>\n",
       "      <td>product_mng</td>\n",
       "      <td>medium</td>\n",
       "      <td>F</td>\n",
       "      <td>42</td>\n",
       "      <td>2</td>\n",
       "      <td>4</td>\n",
       "      <td>1</td>\n",
       "      <td>3</td>\n",
       "      <td>1</td>\n",
       "      <td>1</td>\n",
       "      <td>2</td>\n",
       "      <td>2</td>\n",
       "      <td>1.0</td>\n",
       "      <td>NaN</td>\n",
       "      <td>1</td>\n",
       "      <td>5</td>\n",
       "      <td>1</td>\n",
       "      <td>2</td>\n",
       "      <td>5</td>\n",
       "      <td>2</td>\n",
       "      <td>2</td>\n",
       "      <td>4</td>\n",
       "      <td>4</td>\n",
       "      <td>4</td>\n",
       "      <td>3193</td>\n",
       "      <td>80</td>\n",
       "      <td>8</td>\n",
       "    </tr>\n",
       "    <tr>\n",
       "      <th>3</th>\n",
       "      <td>4</td>\n",
       "      <td>BENT</td>\n",
       "      <td>Human Resources</td>\n",
       "      <td>China</td>\n",
       "      <td>Senior Director</td>\n",
       "      <td>NaN</td>\n",
       "      <td>0</td>\n",
       "      <td>NaN</td>\n",
       "      <td>3</td>\n",
       "      <td>6</td>\n",
       "      <td>6</td>\n",
       "      <td>0.4</td>\n",
       "      <td>3.0</td>\n",
       "      <td>3.0</td>\n",
       "      <td>4.0</td>\n",
       "      <td>3.0</td>\n",
       "      <td>5.0</td>\n",
       "      <td>2</td>\n",
       "      <td>3</td>\n",
       "      <td>2</td>\n",
       "      <td>3</td>\n",
       "      <td>2</td>\n",
       "      <td>5</td>\n",
       "      <td>5</td>\n",
       "      <td>4</td>\n",
       "      <td>4</td>\n",
       "      <td>3</td>\n",
       "      <td>0.36</td>\n",
       "      <td>4</td>\n",
       "      <td>278</td>\n",
       "      <td>4</td>\n",
       "      <td>1</td>\n",
       "      <td>0</td>\n",
       "      <td>NaN</td>\n",
       "      <td>0</td>\n",
       "      <td>product_mng</td>\n",
       "      <td>high</td>\n",
       "      <td>M</td>\n",
       "      <td>37</td>\n",
       "      <td>3</td>\n",
       "      <td>1</td>\n",
       "      <td>4</td>\n",
       "      <td>5</td>\n",
       "      <td>2</td>\n",
       "      <td>1</td>\n",
       "      <td>2</td>\n",
       "      <td>1</td>\n",
       "      <td>NaN</td>\n",
       "      <td>1.0</td>\n",
       "      <td>1</td>\n",
       "      <td>1</td>\n",
       "      <td>2</td>\n",
       "      <td>5</td>\n",
       "      <td>1</td>\n",
       "      <td>1</td>\n",
       "      <td>2</td>\n",
       "      <td>4</td>\n",
       "      <td>4</td>\n",
       "      <td>1</td>\n",
       "      <td>3248</td>\n",
       "      <td>77</td>\n",
       "      <td>6</td>\n",
       "    </tr>\n",
       "    <tr>\n",
       "      <th>4</th>\n",
       "      <td>5</td>\n",
       "      <td>BAZAN</td>\n",
       "      <td>IT</td>\n",
       "      <td>Korea</td>\n",
       "      <td>Director</td>\n",
       "      <td>NaN</td>\n",
       "      <td>0</td>\n",
       "      <td>NaN</td>\n",
       "      <td>3</td>\n",
       "      <td>6</td>\n",
       "      <td>6</td>\n",
       "      <td>0.4</td>\n",
       "      <td>3.0</td>\n",
       "      <td>3.0</td>\n",
       "      <td>4.0</td>\n",
       "      <td>3.0</td>\n",
       "      <td>5.0</td>\n",
       "      <td>2</td>\n",
       "      <td>3</td>\n",
       "      <td>2</td>\n",
       "      <td>3</td>\n",
       "      <td>2</td>\n",
       "      <td>5</td>\n",
       "      <td>5</td>\n",
       "      <td>4</td>\n",
       "      <td>4</td>\n",
       "      <td>3</td>\n",
       "      <td>0.36</td>\n",
       "      <td>6</td>\n",
       "      <td>256</td>\n",
       "      <td>5</td>\n",
       "      <td>0</td>\n",
       "      <td>0</td>\n",
       "      <td>NaN</td>\n",
       "      <td>0</td>\n",
       "      <td>sales</td>\n",
       "      <td>low</td>\n",
       "      <td>F</td>\n",
       "      <td>6</td>\n",
       "      <td>4</td>\n",
       "      <td>5</td>\n",
       "      <td>4</td>\n",
       "      <td>5</td>\n",
       "      <td>1</td>\n",
       "      <td>1</td>\n",
       "      <td>2</td>\n",
       "      <td>1</td>\n",
       "      <td>1.0</td>\n",
       "      <td>NaN</td>\n",
       "      <td>1</td>\n",
       "      <td>4</td>\n",
       "      <td>1</td>\n",
       "      <td>5</td>\n",
       "      <td>3</td>\n",
       "      <td>5</td>\n",
       "      <td>1</td>\n",
       "      <td>2</td>\n",
       "      <td>5</td>\n",
       "      <td>4</td>\n",
       "      <td>3149</td>\n",
       "      <td>80</td>\n",
       "      <td>10</td>\n",
       "    </tr>\n",
       "  </tbody>\n",
       "</table>\n",
       "</div>"
      ],
      "text/plain": [
       "   id      name       department     geo             role  rising_star  \\\n",
       "0   1    BRADDY       Operations      US               VP          NaN   \n",
       "1   2     BORST            Sales      UK  Senior Director          NaN   \n",
       "2   3  BIRDWELL          Finance  France  Senior Director          NaN   \n",
       "3   4      BENT  Human Resources   China  Senior Director          NaN   \n",
       "4   5     BAZAN               IT   Korea         Director          NaN   \n",
       "\n",
       "   will_relocate  critical  trending perf  talent_level  \\\n",
       "0              0       1.0              3             6   \n",
       "1              0       NaN              3             6   \n",
       "2              0       NaN              3             6   \n",
       "3              0       NaN              3             6   \n",
       "4              0       NaN              3             6   \n",
       "\n",
       "   validated_talent_level  percent_remote  emp_sat_onprem_1  emp_sat_onprem_2  \\\n",
       "0                       6             0.4               3.0               3.0   \n",
       "1                       6             0.4               3.0               3.0   \n",
       "2                       6             0.4               3.0               3.0   \n",
       "3                       6             0.4               3.0               3.0   \n",
       "4                       6             0.4               3.0               3.0   \n",
       "\n",
       "   emp_sat_onprem_3  emp_sat_onprem_4  emp_sat_onprem_5  emp_sat_remote_1  \\\n",
       "0               4.0               3.0               5.0                 2   \n",
       "1               4.0               3.0               5.0                 2   \n",
       "2               4.0               3.0               5.0                 2   \n",
       "3               4.0               3.0               5.0                 2   \n",
       "4               4.0               3.0               5.0                 2   \n",
       "\n",
       "   emp_sat_remote_2  emp_sat_remote_3  emp_sat_remote_4  emp_sat_remote_5  \\\n",
       "0                 3                 2                 3                 2   \n",
       "1                 3                 2                 3                 2   \n",
       "2                 3                 2                 3                 2   \n",
       "3                 3                 2                 3                 2   \n",
       "4                 3                 2                 3                 2   \n",
       "\n",
       "   emp_engagement_1  emp_engagement_2  emp_engagement_3  emp_engagement_4  \\\n",
       "0                 5                 5                 4                 4   \n",
       "1                 5                 5                 4                 4   \n",
       "2                 5                 5                 4                 4   \n",
       "3                 5                 5                 4                 4   \n",
       "4                 5                 5                 4                 4   \n",
       "\n",
       "   emp_engagement_5  last_evaluation  number_project  average_montly_hours  \\\n",
       "0                 3             0.36               3                   168   \n",
       "1                 3             0.36               5                   159   \n",
       "2                 3             0.36               2                   282   \n",
       "3                 3             0.36               4                   278   \n",
       "4                 3             0.36               6                   256   \n",
       "\n",
       "   time_spend_company  work_accident  left_company  csr factor  \\\n",
       "0                   3              1             0         NaN   \n",
       "1                   2              0             0         NaN   \n",
       "2                   3              0             0         NaN   \n",
       "3                   4              1             0         NaN   \n",
       "4                   5              0             0         NaN   \n",
       "\n",
       "   promotion_last_5years        sales  salary gender  linkedin_hits  \\\n",
       "0                      0        sales     low      M              5   \n",
       "1                      0   accounting     low      F             58   \n",
       "2                      0  product_mng  medium      F             42   \n",
       "3                      0  product_mng    high      M             37   \n",
       "4                      0        sales     low      F              6   \n",
       "\n",
       "   emp_work_status2  emp_work_status_3  emp_work_status_4  emp_work_status_5  \\\n",
       "0                 4                  3                  1                  1   \n",
       "1                 3                  3                  4                  3   \n",
       "2                 2                  4                  1                  3   \n",
       "3                 3                  1                  4                  5   \n",
       "4                 4                  5                  4                  5   \n",
       "\n",
       "   emp_identity  emp_role  emp_position  emp_title  women_leave  men_leave  \\\n",
       "0             1         1             2          1          NaN        1.0   \n",
       "1             2         1             2          1          0.0        NaN   \n",
       "2             1         1             2          2          1.0        NaN   \n",
       "3             2         1             2          1          NaN        1.0   \n",
       "4             1         1             2          1          1.0        NaN   \n",
       "\n",
       "   emp_competitive_1  emp_competitive_2  emp_competitive_3  emp_competitive_4  \\\n",
       "0                  2                  4                  2                  2   \n",
       "1                  2                  2                  1                  4   \n",
       "2                  1                  5                  1                  2   \n",
       "3                  1                  1                  2                  5   \n",
       "4                  1                  4                  1                  5   \n",
       "\n",
       "   emp_competitive_5  emp_collaborative_1  emp_collaborative_2  \\\n",
       "0                  2                    2                    2   \n",
       "1                  1                    3                    2   \n",
       "2                  5                    2                    2   \n",
       "3                  1                    1                    2   \n",
       "4                  3                    5                    1   \n",
       "\n",
       "   emp_collaborative_3  emp_collaborative_4  emp_collaborative_5  \\\n",
       "0                    2                    1                    5   \n",
       "1                    5                    1                    5   \n",
       "2                    4                    4                    4   \n",
       "3                    4                    4                    1   \n",
       "4                    2                    5                    4   \n",
       "\n",
       "   sensor_stepcount  sensor_heartbeat(average/min)  \\\n",
       "0              1841                             61   \n",
       "1              1990                             90   \n",
       "2              3193                             80   \n",
       "3              3248                             77   \n",
       "4              3149                             80   \n",
       "\n",
       "   sensor_proximity(1-highest/10-lowest)  \n",
       "0                                      9  \n",
       "1                                      8  \n",
       "2                                      8  \n",
       "3                                      6  \n",
       "4                                     10  "
      ]
     },
     "execution_count": 3,
     "metadata": {},
     "output_type": "execute_result"
    }
   ],
   "source": [
    "pd.set_option(\"display.max_columns\", 62)\n",
    "df.columns = df.columns.str.strip().str.lower()\n",
    "df.head()"
   ]
  },
  {
   "cell_type": "code",
   "execution_count": 155,
   "metadata": {},
   "outputs": [
    {
     "data": {
      "text/plain": [
       "0"
      ]
     },
     "execution_count": 155,
     "metadata": {},
     "output_type": "execute_result"
    }
   ],
   "source": [
    "# Check duplicated employees identification\n",
    "df.id.duplicated().sum()"
   ]
  },
  {
   "cell_type": "code",
   "execution_count": 4,
   "metadata": {},
   "outputs": [
    {
     "data": {
      "text/plain": [
       "id                                         int64\n",
       "name                                      object\n",
       "department                                object\n",
       "geo                                       object\n",
       "role                                      object\n",
       "rising_star                              float64\n",
       "will_relocate                              int64\n",
       "critical                                 float64\n",
       "trending perf                              int64\n",
       "talent_level                               int64\n",
       "validated_talent_level                     int64\n",
       "percent_remote                           float64\n",
       "emp_sat_onprem_1                         float64\n",
       "emp_sat_onprem_2                         float64\n",
       "emp_sat_onprem_3                         float64\n",
       "emp_sat_onprem_4                         float64\n",
       "emp_sat_onprem_5                         float64\n",
       "emp_sat_remote_1                           int64\n",
       "emp_sat_remote_2                           int64\n",
       "emp_sat_remote_3                           int64\n",
       "emp_sat_remote_4                           int64\n",
       "emp_sat_remote_5                           int64\n",
       "emp_engagement_1                           int64\n",
       "emp_engagement_2                           int64\n",
       "emp_engagement_3                           int64\n",
       "emp_engagement_4                           int64\n",
       "emp_engagement_5                           int64\n",
       "last_evaluation                          float64\n",
       "number_project                             int64\n",
       "average_montly_hours                       int64\n",
       "time_spend_company                         int64\n",
       "work_accident                              int64\n",
       "left_company                               int64\n",
       "csr factor                               float64\n",
       "promotion_last_5years                      int64\n",
       "sales                                     object\n",
       "salary                                    object\n",
       "gender                                    object\n",
       "linkedin_hits                              int64\n",
       "emp_work_status2                           int64\n",
       "emp_work_status_3                          int64\n",
       "emp_work_status_4                          int64\n",
       "emp_work_status_5                          int64\n",
       "emp_identity                               int64\n",
       "emp_role                                   int64\n",
       "emp_position                               int64\n",
       "emp_title                                  int64\n",
       "women_leave                              float64\n",
       "men_leave                                float64\n",
       "emp_competitive_1                          int64\n",
       "emp_competitive_2                          int64\n",
       "emp_competitive_3                          int64\n",
       "emp_competitive_4                          int64\n",
       "emp_competitive_5                          int64\n",
       "emp_collaborative_1                        int64\n",
       "emp_collaborative_2                        int64\n",
       "emp_collaborative_3                        int64\n",
       "emp_collaborative_4                        int64\n",
       "emp_collaborative_5                        int64\n",
       "sensor_stepcount                           int64\n",
       "sensor_heartbeat(average/min)              int64\n",
       "sensor_proximity(1-highest/10-lowest)      int64\n",
       "dtype: object"
      ]
     },
     "execution_count": 4,
     "metadata": {},
     "output_type": "execute_result"
    }
   ],
   "source": [
    "pd.set_option(\"display.max_rows\", 62)\n",
    "df.dtypes"
   ]
  },
  {
   "cell_type": "markdown",
   "metadata": {},
   "source": [
    "### 1.1 - Categorical Data Analysis"
   ]
  },
  {
   "cell_type": "code",
   "execution_count": 5,
   "metadata": {},
   "outputs": [
    {
     "data": {
      "text/html": [
       "<div>\n",
       "<style scoped>\n",
       "    .dataframe tbody tr th:only-of-type {\n",
       "        vertical-align: middle;\n",
       "    }\n",
       "\n",
       "    .dataframe tbody tr th {\n",
       "        vertical-align: top;\n",
       "    }\n",
       "\n",
       "    .dataframe thead th {\n",
       "        text-align: right;\n",
       "    }\n",
       "</style>\n",
       "<table border=\"1\" class=\"dataframe\">\n",
       "  <thead>\n",
       "    <tr style=\"text-align: right;\">\n",
       "      <th></th>\n",
       "      <th>name</th>\n",
       "      <th>department</th>\n",
       "      <th>geo</th>\n",
       "      <th>role</th>\n",
       "      <th>sales</th>\n",
       "      <th>salary</th>\n",
       "      <th>gender</th>\n",
       "    </tr>\n",
       "  </thead>\n",
       "  <tbody>\n",
       "    <tr>\n",
       "      <th>0</th>\n",
       "      <td>BRADDY</td>\n",
       "      <td>Operations</td>\n",
       "      <td>US</td>\n",
       "      <td>VP</td>\n",
       "      <td>sales</td>\n",
       "      <td>low</td>\n",
       "      <td>M</td>\n",
       "    </tr>\n",
       "    <tr>\n",
       "      <th>1</th>\n",
       "      <td>BORST</td>\n",
       "      <td>Sales</td>\n",
       "      <td>UK</td>\n",
       "      <td>Senior Director</td>\n",
       "      <td>accounting</td>\n",
       "      <td>low</td>\n",
       "      <td>F</td>\n",
       "    </tr>\n",
       "    <tr>\n",
       "      <th>2</th>\n",
       "      <td>BIRDWELL</td>\n",
       "      <td>Finance</td>\n",
       "      <td>France</td>\n",
       "      <td>Senior Director</td>\n",
       "      <td>product_mng</td>\n",
       "      <td>medium</td>\n",
       "      <td>F</td>\n",
       "    </tr>\n",
       "    <tr>\n",
       "      <th>3</th>\n",
       "      <td>BENT</td>\n",
       "      <td>Human Resources</td>\n",
       "      <td>China</td>\n",
       "      <td>Senior Director</td>\n",
       "      <td>product_mng</td>\n",
       "      <td>high</td>\n",
       "      <td>M</td>\n",
       "    </tr>\n",
       "    <tr>\n",
       "      <th>4</th>\n",
       "      <td>BAZAN</td>\n",
       "      <td>IT</td>\n",
       "      <td>Korea</td>\n",
       "      <td>Director</td>\n",
       "      <td>sales</td>\n",
       "      <td>low</td>\n",
       "      <td>F</td>\n",
       "    </tr>\n",
       "  </tbody>\n",
       "</table>\n",
       "</div>"
      ],
      "text/plain": [
       "       name       department     geo             role        sales  salary  \\\n",
       "0    BRADDY       Operations      US               VP        sales     low   \n",
       "1     BORST            Sales      UK  Senior Director   accounting     low   \n",
       "2  BIRDWELL          Finance  France  Senior Director  product_mng  medium   \n",
       "3      BENT  Human Resources   China  Senior Director  product_mng    high   \n",
       "4     BAZAN               IT   Korea         Director        sales     low   \n",
       "\n",
       "  gender  \n",
       "0      M  \n",
       "1      F  \n",
       "2      F  \n",
       "3      M  \n",
       "4      F  "
      ]
     },
     "execution_count": 5,
     "metadata": {},
     "output_type": "execute_result"
    }
   ],
   "source": [
    "df.select_dtypes('object').head()\n",
    "# salary object, not quantitative"
   ]
  },
  {
   "cell_type": "code",
   "execution_count": 6,
   "metadata": {},
   "outputs": [
    {
     "data": {
      "text/plain": [
       "name          2\n",
       "department    0\n",
       "geo           0\n",
       "role          0\n",
       "sales         0\n",
       "salary        0\n",
       "gender        0\n",
       "dtype: int64"
      ]
     },
     "execution_count": 6,
     "metadata": {},
     "output_type": "execute_result"
    }
   ],
   "source": [
    "df.select_dtypes('object').isnull().sum()"
   ]
  },
  {
   "cell_type": "code",
   "execution_count": 7,
   "metadata": {},
   "outputs": [
    {
     "data": {
      "text/plain": [
       "low       7316\n",
       "medium    6446\n",
       "high      1237\n",
       "Name: salary, dtype: int64"
      ]
     },
     "execution_count": 7,
     "metadata": {},
     "output_type": "execute_result"
    }
   ],
   "source": [
    "# Relative pay grade (low, medium, high) by role.\n",
    "df.salary.value_counts() "
   ]
  },
  {
   "cell_type": "code",
   "execution_count": 8,
   "metadata": {},
   "outputs": [
    {
     "data": {
      "text/plain": [
       "<matplotlib.axes._subplots.AxesSubplot at 0x7f600873db38>"
      ]
     },
     "execution_count": 8,
     "metadata": {},
     "output_type": "execute_result"
    },
    {
     "data": {
      "image/png": "[encoded data removed]",
      "text/plain": [
       "<Figure size 432x288 with 1 Axes>"
      ]
     },
     "metadata": {
      "needs_background": "light"
     },
     "output_type": "display_data"
    }
   ],
   "source": [
    "sns.barplot(x='index', y='salary', data=df.salary.value_counts().reset_index())"
   ]
  },
  {
   "cell_type": "code",
   "execution_count": 9,
   "metadata": {},
   "outputs": [
    {
     "data": {
      "text/plain": [
       "low       48.776585\n",
       "medium    42.976198\n",
       "high       8.247216\n",
       "Name: salary, dtype: float64"
      ]
     },
     "execution_count": 9,
     "metadata": {},
     "output_type": "execute_result"
    }
   ],
   "source": [
    "df.salary.value_counts(normalize=True) * 100"
   ]
  },
  {
   "cell_type": "markdown",
   "metadata": {},
   "source": [
    "**Salary category count is skewed to the right  \n",
    "but this dont say anything about the continuous salary curve.**"
   ]
  },
  {
   "cell_type": "code",
   "execution_count": 10,
   "metadata": {},
   "outputs": [
    {
     "data": {
      "text/html": [
       "<div>\n",
       "<style scoped>\n",
       "    .dataframe tbody tr th:only-of-type {\n",
       "        vertical-align: middle;\n",
       "    }\n",
       "\n",
       "    .dataframe tbody tr th {\n",
       "        vertical-align: top;\n",
       "    }\n",
       "\n",
       "    .dataframe thead th {\n",
       "        text-align: right;\n",
       "    }\n",
       "</style>\n",
       "<table border=\"1\" class=\"dataframe\">\n",
       "  <thead>\n",
       "    <tr style=\"text-align: right;\">\n",
       "      <th></th>\n",
       "      <th></th>\n",
       "      <th>name</th>\n",
       "    </tr>\n",
       "    <tr>\n",
       "      <th>gender</th>\n",
       "      <th>salary</th>\n",
       "      <th></th>\n",
       "    </tr>\n",
       "  </thead>\n",
       "  <tbody>\n",
       "    <tr>\n",
       "      <th rowspan=\"3\" valign=\"top\">F</th>\n",
       "      <th>high</th>\n",
       "      <td>613</td>\n",
       "    </tr>\n",
       "    <tr>\n",
       "      <th>low</th>\n",
       "      <td>3683</td>\n",
       "    </tr>\n",
       "    <tr>\n",
       "      <th>medium</th>\n",
       "      <td>3299</td>\n",
       "    </tr>\n",
       "    <tr>\n",
       "      <th rowspan=\"3\" valign=\"top\">M</th>\n",
       "      <th>high</th>\n",
       "      <td>624</td>\n",
       "    </tr>\n",
       "    <tr>\n",
       "      <th>low</th>\n",
       "      <td>3631</td>\n",
       "    </tr>\n",
       "    <tr>\n",
       "      <th>medium</th>\n",
       "      <td>3147</td>\n",
       "    </tr>\n",
       "  </tbody>\n",
       "</table>\n",
       "</div>"
      ],
      "text/plain": [
       "               name\n",
       "gender salary      \n",
       "F      high     613\n",
       "       low     3683\n",
       "       medium  3299\n",
       "M      high     624\n",
       "       low     3631\n",
       "       medium  3147"
      ]
     },
     "execution_count": 10,
     "metadata": {},
     "output_type": "execute_result"
    }
   ],
   "source": [
    "df.select_dtypes('object').groupby(['gender', 'salary']).count()[['name']]"
   ]
  },
  {
   "cell_type": "code",
   "execution_count": 11,
   "metadata": {},
   "outputs": [
    {
     "data": {
      "text/plain": [
       "<matplotlib.axes._subplots.AxesSubplot at 0x7f60086d5d30>"
      ]
     },
     "execution_count": 11,
     "metadata": {},
     "output_type": "execute_result"
    },
    {
     "data": {
      "image/png": "[encoded data removed]",
      "text/plain": [
       "<Figure size 432x288 with 1 Axes>"
      ]
     },
     "metadata": {
      "needs_background": "light"
     },
     "output_type": "display_data"
    }
   ],
   "source": [
    "# Salary category count by gender\n",
    "sns.countplot(x='salary', hue='gender', data=df.select_dtypes('object'), palette='hls')"
   ]
  },
  {
   "cell_type": "code",
   "execution_count": 12,
   "metadata": {},
   "outputs": [
    {
     "data": {
      "text/plain": [
       "IT                 2500\n",
       "Human Resources    2500\n",
       "Sales              2500\n",
       "Finance            2500\n",
       "Operations         2500\n",
       "Warehouse          2499\n",
       "Name: department, dtype: int64"
      ]
     },
     "execution_count": 12,
     "metadata": {},
     "output_type": "execute_result"
    }
   ],
   "source": [
    "# The functional department that the employee belongs to.\n",
    "df.department.value_counts()"
   ]
  },
  {
   "cell_type": "code",
   "execution_count": 13,
   "metadata": {},
   "outputs": [
    {
     "data": {
      "text/plain": [
       "F    7596\n",
       "M    7403\n",
       "Name: gender, dtype: int64"
      ]
     },
     "execution_count": 13,
     "metadata": {},
     "output_type": "execute_result"
    }
   ],
   "source": [
    "# Employee gender\n",
    "df.gender.value_counts()"
   ]
  },
  {
   "cell_type": "code",
   "execution_count": 14,
   "metadata": {},
   "outputs": [
    {
     "data": {
      "text/plain": [
       "UK           1772\n",
       "France       1699\n",
       "Korea        1685\n",
       "Japan        1669\n",
       "China        1667\n",
       "Colombia     1659\n",
       "Turkey       1639\n",
       "US           1632\n",
       "Australia    1577\n",
       "Name: geo, dtype: int64"
      ]
     },
     "execution_count": 14,
     "metadata": {},
     "output_type": "execute_result"
    }
   ],
   "source": [
    "# The working geography that the employee belongs to in a matrix organization\n",
    "df.geo.value_counts()"
   ]
  },
  {
   "cell_type": "code",
   "execution_count": 15,
   "metadata": {},
   "outputs": [
    {
     "data": {
      "text/plain": [
       "Level 2-4          6889\n",
       "Level 1            3270\n",
       "Manager            2420\n",
       "Senior Manager     1320\n",
       "Director            660\n",
       "Senior Director     330\n",
       "VP                  110\n",
       "Name: role, dtype: int64"
      ]
     },
     "execution_count": 15,
     "metadata": {},
     "output_type": "execute_result"
    }
   ],
   "source": [
    "# The employee's position or title.\n",
    "df.role.value_counts()"
   ]
  },
  {
   "cell_type": "code",
   "execution_count": 16,
   "metadata": {},
   "outputs": [
    {
     "data": {
      "text/plain": [
       "sales          4140\n",
       "technical      2720\n",
       "support        2229\n",
       "IT             1227\n",
       "product_mng     902\n",
       "marketing       858\n",
       "RandD           787\n",
       "accounting      767\n",
       "hr              739\n",
       "management      630\n",
       "Name: sales, dtype: int64"
      ]
     },
     "execution_count": 16,
     "metadata": {},
     "output_type": "execute_result"
    }
   ],
   "source": [
    "df.sales.value_counts()\n",
    "# What this means?"
   ]
  },
  {
   "cell_type": "markdown",
   "metadata": {},
   "source": [
    "### 1.2 - Quantitative data analysis"
   ]
  },
  {
   "cell_type": "code",
   "execution_count": 17,
   "metadata": {},
   "outputs": [
    {
     "data": {
      "text/plain": [
       "id                                           0\n",
       "rising_star                              14978\n",
       "will_relocate                                0\n",
       "critical                                 14519\n",
       "trending perf                                0\n",
       "talent_level                                 0\n",
       "validated_talent_level                       0\n",
       "percent_remote                               0\n",
       "emp_sat_onprem_1                           128\n",
       "emp_sat_onprem_2                           128\n",
       "emp_sat_onprem_3                           128\n",
       "emp_sat_onprem_4                           128\n",
       "emp_sat_onprem_5                           128\n",
       "emp_sat_remote_1                             0\n",
       "emp_sat_remote_2                             0\n",
       "emp_sat_remote_3                             0\n",
       "emp_sat_remote_4                             0\n",
       "emp_sat_remote_5                             0\n",
       "emp_engagement_1                             0\n",
       "emp_engagement_2                             0\n",
       "emp_engagement_3                             0\n",
       "emp_engagement_4                             0\n",
       "emp_engagement_5                             0\n",
       "last_evaluation                              0\n",
       "number_project                               0\n",
       "average_montly_hours                         0\n",
       "time_spend_company                           0\n",
       "work_accident                                0\n",
       "left_company                                 0\n",
       "csr factor                               13286\n",
       "promotion_last_5years                        0\n",
       "linkedin_hits                                0\n",
       "emp_work_status2                             0\n",
       "emp_work_status_3                            0\n",
       "emp_work_status_4                            0\n",
       "emp_work_status_5                            0\n",
       "emp_identity                                 0\n",
       "emp_role                                     0\n",
       "emp_position                                 0\n",
       "emp_title                                    0\n",
       "women_leave                               7403\n",
       "men_leave                                10134\n",
       "emp_competitive_1                            0\n",
       "emp_competitive_2                            0\n",
       "emp_competitive_3                            0\n",
       "emp_competitive_4                            0\n",
       "emp_competitive_5                            0\n",
       "emp_collaborative_1                          0\n",
       "emp_collaborative_2                          0\n",
       "emp_collaborative_3                          0\n",
       "emp_collaborative_4                          0\n",
       "emp_collaborative_5                          0\n",
       "sensor_stepcount                             0\n",
       "sensor_heartbeat(average/min)                0\n",
       "sensor_proximity(1-highest/10-lowest)        0\n",
       "dtype: int64"
      ]
     },
     "execution_count": 17,
     "metadata": {},
     "output_type": "execute_result"
    }
   ],
   "source": [
    "df.select_dtypes('number').isnull().sum()"
   ]
  },
  {
   "cell_type": "code",
   "execution_count": 18,
   "metadata": {},
   "outputs": [
    {
     "data": {
      "text/plain": [
       "3.0    14871\n",
       "Name: emp_sat_onprem_1, dtype: int64"
      ]
     },
     "execution_count": 18,
     "metadata": {},
     "output_type": "execute_result"
    }
   ],
   "source": [
    "df['emp_sat_onprem_1'].value_counts()"
   ]
  },
  {
   "cell_type": "markdown",
   "metadata": {},
   "source": [
    "Columns with null values description:|\n",
    "- rising_star: Indicates the level of promise or promote-ability the employee has\n",
    "- critical: Is the employee critical to the organization?\n",
    "- men_leave: men who left the company.\n",
    "- women_leave: Women who left the company.\n",
    "- csr_factor: What is this? - ignore"
   ]
  },
  {
   "cell_type": "markdown",
   "metadata": {},
   "source": [
    "**rising_star, critical and csr factor have too much null values, will delete it**"
   ]
  },
  {
   "cell_type": "code",
   "execution_count": 19,
   "metadata": {},
   "outputs": [
    {
     "data": {
      "text/html": [
       "<div>\n",
       "<style scoped>\n",
       "    .dataframe tbody tr th:only-of-type {\n",
       "        vertical-align: middle;\n",
       "    }\n",
       "\n",
       "    .dataframe tbody tr th {\n",
       "        vertical-align: top;\n",
       "    }\n",
       "\n",
       "    .dataframe thead th {\n",
       "        text-align: right;\n",
       "    }\n",
       "</style>\n",
       "<table border=\"1\" class=\"dataframe\">\n",
       "  <thead>\n",
       "    <tr style=\"text-align: right;\">\n",
       "      <th></th>\n",
       "      <th>name</th>\n",
       "      <th>men_leave</th>\n",
       "      <th>women_leave</th>\n",
       "    </tr>\n",
       "  </thead>\n",
       "  <tbody>\n",
       "    <tr>\n",
       "      <th>0</th>\n",
       "      <td>BRADDY</td>\n",
       "      <td>1.0</td>\n",
       "      <td>NaN</td>\n",
       "    </tr>\n",
       "    <tr>\n",
       "      <th>1</th>\n",
       "      <td>BORST</td>\n",
       "      <td>NaN</td>\n",
       "      <td>0.0</td>\n",
       "    </tr>\n",
       "    <tr>\n",
       "      <th>2</th>\n",
       "      <td>BIRDWELL</td>\n",
       "      <td>NaN</td>\n",
       "      <td>1.0</td>\n",
       "    </tr>\n",
       "    <tr>\n",
       "      <th>3</th>\n",
       "      <td>BENT</td>\n",
       "      <td>1.0</td>\n",
       "      <td>NaN</td>\n",
       "    </tr>\n",
       "    <tr>\n",
       "      <th>4</th>\n",
       "      <td>BAZAN</td>\n",
       "      <td>NaN</td>\n",
       "      <td>1.0</td>\n",
       "    </tr>\n",
       "    <tr>\n",
       "      <th>...</th>\n",
       "      <td>...</td>\n",
       "      <td>...</td>\n",
       "      <td>...</td>\n",
       "    </tr>\n",
       "    <tr>\n",
       "      <th>14994</th>\n",
       "      <td>EARLY</td>\n",
       "      <td>NaN</td>\n",
       "      <td>1.0</td>\n",
       "    </tr>\n",
       "    <tr>\n",
       "      <th>14995</th>\n",
       "      <td>LUNSFORD</td>\n",
       "      <td>NaN</td>\n",
       "      <td>1.0</td>\n",
       "    </tr>\n",
       "    <tr>\n",
       "      <th>14996</th>\n",
       "      <td>GOLDSMITH</td>\n",
       "      <td>NaN</td>\n",
       "      <td>1.0</td>\n",
       "    </tr>\n",
       "    <tr>\n",
       "      <th>14997</th>\n",
       "      <td>FLOOD</td>\n",
       "      <td>1.0</td>\n",
       "      <td>NaN</td>\n",
       "    </tr>\n",
       "    <tr>\n",
       "      <th>14998</th>\n",
       "      <td>Yolo</td>\n",
       "      <td>NaN</td>\n",
       "      <td>0.0</td>\n",
       "    </tr>\n",
       "  </tbody>\n",
       "</table>\n",
       "<p>14999 rows × 3 columns</p>\n",
       "</div>"
      ],
      "text/plain": [
       "            name  men_leave  women_leave\n",
       "0         BRADDY        1.0          NaN\n",
       "1          BORST        NaN          0.0\n",
       "2       BIRDWELL        NaN          1.0\n",
       "3           BENT        1.0          NaN\n",
       "4          BAZAN        NaN          1.0\n",
       "...          ...        ...          ...\n",
       "14994      EARLY        NaN          1.0\n",
       "14995   LUNSFORD        NaN          1.0\n",
       "14996  GOLDSMITH        NaN          1.0\n",
       "14997      FLOOD        1.0          NaN\n",
       "14998       Yolo        NaN          0.0\n",
       "\n",
       "[14999 rows x 3 columns]"
      ]
     },
     "execution_count": 19,
     "metadata": {},
     "output_type": "execute_result"
    }
   ],
   "source": [
    "df[['name','men_leave', 'women_leave']]"
   ]
  },
  {
   "cell_type": "code",
   "execution_count": 20,
   "metadata": {},
   "outputs": [
    {
     "data": {
      "text/plain": [
       "F    7596\n",
       "M    2538\n",
       "Name: gender, dtype: int64"
      ]
     },
     "execution_count": 20,
     "metadata": {},
     "output_type": "execute_result"
    }
   ],
   "source": [
    "# NULL Men leave by gender\n",
    "df[df.men_leave.isnull()].gender.value_counts()"
   ]
  },
  {
   "cell_type": "code",
   "execution_count": 21,
   "metadata": {},
   "outputs": [
    {
     "data": {
      "text/plain": [
       "M    7403\n",
       "Name: gender, dtype: int64"
      ]
     },
     "execution_count": 21,
     "metadata": {},
     "output_type": "execute_result"
    }
   ],
   "source": [
    "# null women leave by gender\n",
    "df[df.women_leave.isnull()].gender.value_counts()"
   ]
  },
  {
   "cell_type": "code",
   "execution_count": 22,
   "metadata": {},
   "outputs": [
    {
     "data": {
      "text/plain": [
       "M    2538\n",
       "Name: gender, dtype: int64"
      ]
     },
     "execution_count": 22,
     "metadata": {},
     "output_type": "execute_result"
    }
   ],
   "source": [
    "df[df.men_leave.isnull()][df[df.men_leave.isnull()].women_leave.isnull()].gender.value_counts()\n",
    "# Only men with both (men and women leave) null"
   ]
  },
  {
   "cell_type": "code",
   "execution_count": 23,
   "metadata": {},
   "outputs": [
    {
     "data": {
      "text/plain": [
       "F    7596\n",
       "M    2538\n",
       "Name: gender, dtype: int64"
      ]
     },
     "execution_count": 23,
     "metadata": {},
     "output_type": "execute_result"
    }
   ],
   "source": [
    "df[df.men_leave.isnull()].gender.value_counts()"
   ]
  },
  {
   "cell_type": "code",
   "execution_count": 24,
   "metadata": {},
   "outputs": [],
   "source": [
    "# Drop useless columns\n",
    "df.drop(['rising_star', 'critical', 'csr factor'], axis=1, inplace=True)"
   ]
  },
  {
   "cell_type": "code",
   "execution_count": 25,
   "metadata": {},
   "outputs": [
    {
     "data": {
      "text/plain": [
       "False"
      ]
     },
     "execution_count": 25,
     "metadata": {},
     "output_type": "execute_result"
    }
   ],
   "source": [
    "'rising_star' in df or 'critical' in df or 'csr factor' in df"
   ]
  },
  {
   "cell_type": "code",
   "execution_count": 26,
   "metadata": {},
   "outputs": [],
   "source": [
    "# Get columns with only one value that probably represents nothing\n",
    "columns_one_value = [column for column in df.select_dtypes('number') if df[column].value_counts().max()==len(df)]"
   ]
  },
  {
   "cell_type": "code",
   "execution_count": 27,
   "metadata": {},
   "outputs": [
    {
     "data": {
      "text/plain": [
       "['trending perf', 'talent_level', 'validated_talent_level']"
      ]
     },
     "execution_count": 27,
     "metadata": {},
     "output_type": "execute_result"
    }
   ],
   "source": [
    "columns_one_value"
   ]
  },
  {
   "cell_type": "markdown",
   "metadata": {},
   "source": [
    "- Trending Perf : How is the employee trending in performance this year?\n",
    "- Talent_Level : This field represents a subjective level of management's view of the employee.\n",
    "- Validated_Talent_Level : This field senior managements view of what the manager stated."
   ]
  },
  {
   "cell_type": "markdown",
   "metadata": {},
   "source": [
    "**This fields have subjective and relative analysis from employees, so a unique value says nothing about the data because we can't compare to others.  \n",
    "\"e.g Trending Perf = 3, what this represents, is this good? is this bad? cant know\"  \n",
    "will drop it too**"
   ]
  },
  {
   "cell_type": "code",
   "execution_count": 28,
   "metadata": {},
   "outputs": [],
   "source": [
    "df.drop(columns_one_value, axis=1, inplace=True)"
   ]
  },
  {
   "cell_type": "code",
   "execution_count": 29,
   "metadata": {},
   "outputs": [
    {
     "data": {
      "text/plain": [
       "id                                           0\n",
       "will_relocate                                0\n",
       "percent_remote                               0\n",
       "emp_sat_onprem_1                           128\n",
       "emp_sat_onprem_2                           128\n",
       "emp_sat_onprem_3                           128\n",
       "emp_sat_onprem_4                           128\n",
       "emp_sat_onprem_5                           128\n",
       "emp_sat_remote_1                             0\n",
       "emp_sat_remote_2                             0\n",
       "emp_sat_remote_3                             0\n",
       "emp_sat_remote_4                             0\n",
       "emp_sat_remote_5                             0\n",
       "emp_engagement_1                             0\n",
       "emp_engagement_2                             0\n",
       "emp_engagement_3                             0\n",
       "emp_engagement_4                             0\n",
       "emp_engagement_5                             0\n",
       "last_evaluation                              0\n",
       "number_project                               0\n",
       "average_montly_hours                         0\n",
       "time_spend_company                           0\n",
       "work_accident                                0\n",
       "left_company                                 0\n",
       "promotion_last_5years                        0\n",
       "linkedin_hits                                0\n",
       "emp_work_status2                             0\n",
       "emp_work_status_3                            0\n",
       "emp_work_status_4                            0\n",
       "emp_work_status_5                            0\n",
       "emp_identity                                 0\n",
       "emp_role                                     0\n",
       "emp_position                                 0\n",
       "emp_title                                    0\n",
       "women_leave                               7403\n",
       "men_leave                                10134\n",
       "emp_competitive_1                            0\n",
       "emp_competitive_2                            0\n",
       "emp_competitive_3                            0\n",
       "emp_competitive_4                            0\n",
       "emp_competitive_5                            0\n",
       "emp_collaborative_1                          0\n",
       "emp_collaborative_2                          0\n",
       "emp_collaborative_3                          0\n",
       "emp_collaborative_4                          0\n",
       "emp_collaborative_5                          0\n",
       "sensor_stepcount                             0\n",
       "sensor_heartbeat(average/min)                0\n",
       "sensor_proximity(1-highest/10-lowest)        0\n",
       "dtype: int64"
      ]
     },
     "execution_count": 29,
     "metadata": {},
     "output_type": "execute_result"
    }
   ],
   "source": [
    "df.select_dtypes('number').isnull().sum()"
   ]
  },
  {
   "cell_type": "code",
   "execution_count": 37,
   "metadata": {},
   "outputs": [
    {
     "data": {
      "text/html": [
       "<div>\n",
       "<style scoped>\n",
       "    .dataframe tbody tr th:only-of-type {\n",
       "        vertical-align: middle;\n",
       "    }\n",
       "\n",
       "    .dataframe tbody tr th {\n",
       "        vertical-align: top;\n",
       "    }\n",
       "\n",
       "    .dataframe thead th {\n",
       "        text-align: right;\n",
       "    }\n",
       "</style>\n",
       "<table border=\"1\" class=\"dataframe\">\n",
       "  <thead>\n",
       "    <tr style=\"text-align: right;\">\n",
       "      <th></th>\n",
       "      <th>emp_sat_onprem_1</th>\n",
       "      <th>emp_sat_onprem_2</th>\n",
       "      <th>emp_sat_onprem_3</th>\n",
       "      <th>emp_sat_onprem_4</th>\n",
       "      <th>emp_sat_onprem_5</th>\n",
       "    </tr>\n",
       "  </thead>\n",
       "  <tbody>\n",
       "    <tr>\n",
       "      <th>0</th>\n",
       "      <td>3.0</td>\n",
       "      <td>3.0</td>\n",
       "      <td>4.0</td>\n",
       "      <td>3.0</td>\n",
       "      <td>5.0</td>\n",
       "    </tr>\n",
       "    <tr>\n",
       "      <th>1</th>\n",
       "      <td>3.0</td>\n",
       "      <td>3.0</td>\n",
       "      <td>4.0</td>\n",
       "      <td>3.0</td>\n",
       "      <td>5.0</td>\n",
       "    </tr>\n",
       "    <tr>\n",
       "      <th>2</th>\n",
       "      <td>3.0</td>\n",
       "      <td>3.0</td>\n",
       "      <td>4.0</td>\n",
       "      <td>3.0</td>\n",
       "      <td>5.0</td>\n",
       "    </tr>\n",
       "    <tr>\n",
       "      <th>3</th>\n",
       "      <td>3.0</td>\n",
       "      <td>3.0</td>\n",
       "      <td>4.0</td>\n",
       "      <td>3.0</td>\n",
       "      <td>5.0</td>\n",
       "    </tr>\n",
       "    <tr>\n",
       "      <th>4</th>\n",
       "      <td>3.0</td>\n",
       "      <td>3.0</td>\n",
       "      <td>4.0</td>\n",
       "      <td>3.0</td>\n",
       "      <td>5.0</td>\n",
       "    </tr>\n",
       "  </tbody>\n",
       "</table>\n",
       "</div>"
      ],
      "text/plain": [
       "   emp_sat_onprem_1  emp_sat_onprem_2  emp_sat_onprem_3  emp_sat_onprem_4  \\\n",
       "0               3.0               3.0               4.0               3.0   \n",
       "1               3.0               3.0               4.0               3.0   \n",
       "2               3.0               3.0               4.0               3.0   \n",
       "3               3.0               3.0               4.0               3.0   \n",
       "4               3.0               3.0               4.0               3.0   \n",
       "\n",
       "   emp_sat_onprem_5  \n",
       "0               5.0  \n",
       "1               5.0  \n",
       "2               5.0  \n",
       "3               5.0  \n",
       "4               5.0  "
      ]
     },
     "execution_count": 37,
     "metadata": {},
     "output_type": "execute_result"
    }
   ],
   "source": [
    "# Check indicators\n",
    "# One indicator from a survey that was sent to employees by a third party. On prem (On premise) means that the employee maintains a high percentage of work on the corporation’s physical work locations.\n",
    "on_prem_columns = [column for column in df.columns if 'onprem' in column]\n",
    "df[on_prem_columns].head()"
   ]
  },
  {
   "cell_type": "code",
   "execution_count": 31,
   "metadata": {},
   "outputs": [
    {
     "data": {
      "text/plain": [
       "emp_sat_onprem_1    128\n",
       "emp_sat_onprem_2    128\n",
       "emp_sat_onprem_3    128\n",
       "emp_sat_onprem_4    128\n",
       "emp_sat_onprem_5    128\n",
       "dtype: int64"
      ]
     },
     "execution_count": 31,
     "metadata": {},
     "output_type": "execute_result"
    }
   ],
   "source": [
    "df[on_prem_columns].isnull().sum()"
   ]
  },
  {
   "cell_type": "code",
   "execution_count": 33,
   "metadata": {},
   "outputs": [
    {
     "name": "stdout",
     "output_type": "stream",
     "text": [
      "Column 1\n",
      "3.0    14871\n",
      "Name: emp_sat_onprem_1, dtype: int64\n",
      "\n",
      "Column 2\n",
      "3.0    12878\n",
      "1.0     1993\n",
      "Name: emp_sat_onprem_2, dtype: int64\n",
      "\n",
      "Column 3\n",
      "4.0    12878\n",
      "2.0     1993\n",
      "Name: emp_sat_onprem_3, dtype: int64\n",
      "\n",
      "Column 4\n",
      "3.0    12878\n",
      "1.0     1993\n",
      "Name: emp_sat_onprem_4, dtype: int64\n",
      "\n",
      "Column 5\n",
      "4.0    7737\n",
      "5.0    5141\n",
      "1.0    1993\n",
      "Name: emp_sat_onprem_5, dtype: int64\n",
      "\n"
     ]
    }
   ],
   "source": [
    "for i, column in enumerate(df[on_prem_columns]):\n",
    "    print('Column {}'.format(i+1))\n",
    "    print(df[column].value_counts())\n",
    "    print()"
   ]
  },
  {
   "cell_type": "code",
   "execution_count": 34,
   "metadata": {},
   "outputs": [],
   "source": [
    "'''\n",
    "Replace nulll emp_sat_onprem with value with more occurrences\n",
    "Using this approach because have no info about this data like range or if this represents a categorical data encoded in numbers.\n",
    "Also the most columns is unbalanced \n",
    "'''\n",
    "for i, column in enumerate(df[on_prem_columns]):\n",
    "    df[column].replace(np.nan, df[column].value_counts().sort_values(ascending=False).index[0], inplace=True)"
   ]
  },
  {
   "cell_type": "code",
   "execution_count": 40,
   "metadata": {},
   "outputs": [],
   "source": [
    "# Remote sat indicators\n",
    "on_remote_columns = [column for column in df.columns if 'sat_remote' in column]"
   ]
  },
  {
   "cell_type": "code",
   "execution_count": 43,
   "metadata": {},
   "outputs": [
    {
     "data": {
      "text/plain": [
       "emp_sat_remote_1    0\n",
       "emp_sat_remote_2    0\n",
       "emp_sat_remote_3    0\n",
       "emp_sat_remote_4    0\n",
       "emp_sat_remote_5    0\n",
       "dtype: int64"
      ]
     },
     "execution_count": 43,
     "metadata": {},
     "output_type": "execute_result"
    }
   ],
   "source": [
    "df[on_remote_columns].isnull().sum()"
   ]
  },
  {
   "cell_type": "code",
   "execution_count": 45,
   "metadata": {},
   "outputs": [
    {
     "name": "stdout",
     "output_type": "stream",
     "text": [
      "Column 1\n",
      "3    9088\n",
      "2    4742\n",
      "5    1169\n",
      "Name: emp_sat_remote_1, dtype: int64\n",
      "\n",
      "Column 2\n",
      "5    10257\n",
      "3     4742\n",
      "Name: emp_sat_remote_2, dtype: int64\n",
      "\n",
      "Column 3\n",
      "4    10257\n",
      "2     4742\n",
      "Name: emp_sat_remote_3, dtype: int64\n",
      "\n",
      "Column 4\n",
      "4    9088\n",
      "3    4742\n",
      "5    1169\n",
      "Name: emp_sat_remote_4, dtype: int64\n",
      "\n",
      "Column 5\n",
      "5    9088\n",
      "2    4742\n",
      "4    1169\n",
      "Name: emp_sat_remote_5, dtype: int64\n",
      "\n"
     ]
    }
   ],
   "source": [
    "for i, column in enumerate(df[on_remote_columns]):\n",
    "    print('Column {}'.format(i+1))\n",
    "    print(df[column].value_counts())\n",
    "    print()"
   ]
  },
  {
   "cell_type": "code",
   "execution_count": 47,
   "metadata": {},
   "outputs": [],
   "source": [
    "# Engagement indicators\n",
    "# Indicator from a survey that was sent to employees by a third party. Engagement represents the employee's feeling about how they feel about being engaged in company activities.\n",
    "\n",
    "engagement_columns = [column for column in df.columns if 'engagement' in column]"
   ]
  },
  {
   "cell_type": "code",
   "execution_count": 50,
   "metadata": {},
   "outputs": [
    {
     "data": {
      "text/plain": [
       "emp_engagement_1    0\n",
       "emp_engagement_2    0\n",
       "emp_engagement_3    0\n",
       "emp_engagement_4    0\n",
       "emp_engagement_5    0\n",
       "dtype: int64"
      ]
     },
     "execution_count": 50,
     "metadata": {},
     "output_type": "execute_result"
    }
   ],
   "source": [
    "df[engagement_columns].isnull().sum()"
   ]
  },
  {
   "cell_type": "code",
   "execution_count": 49,
   "metadata": {},
   "outputs": [
    {
     "name": "stdout",
     "output_type": "stream",
     "text": [
      "Column 1\n",
      "5    11428\n",
      "1     3571\n",
      "Name: emp_engagement_1, dtype: int64\n",
      "\n",
      "Column 2\n",
      "5    11428\n",
      "2     3571\n",
      "Name: emp_engagement_2, dtype: int64\n",
      "\n",
      "Column 3\n",
      "4    11428\n",
      "3     3571\n",
      "Name: emp_engagement_3, dtype: int64\n",
      "\n",
      "Column 4\n",
      "4    11428\n",
      "2     3571\n",
      "Name: emp_engagement_4, dtype: int64\n",
      "\n",
      "Column 5\n",
      "3    11428\n",
      "1     3571\n",
      "Name: emp_engagement_5, dtype: int64\n",
      "\n"
     ]
    }
   ],
   "source": [
    "for i, column in enumerate(df[engagement_columns]):\n",
    "    print('Column {}'.format(i+1))\n",
    "    print(df[column].value_counts())\n",
    "    print()"
   ]
  },
  {
   "cell_type": "code",
   "execution_count": 52,
   "metadata": {},
   "outputs": [
    {
     "data": {
      "text/plain": [
       "0        0.36\n",
       "1        0.36\n",
       "2        0.36\n",
       "3        0.36\n",
       "4        0.36\n",
       "         ... \n",
       "14994    1.00\n",
       "14995    1.00\n",
       "14996    1.00\n",
       "14997    1.00\n",
       "14998    1.00\n",
       "Name: last_evaluation, Length: 14999, dtype: float64"
      ]
     },
     "execution_count": 52,
     "metadata": {},
     "output_type": "execute_result"
    }
   ],
   "source": [
    "df.last_evaluation # *interesting metric to predict"
   ]
  },
  {
   "cell_type": "code",
   "execution_count": 66,
   "metadata": {},
   "outputs": [
    {
     "data": {
      "text/plain": [
       "count    14999.000000\n",
       "mean         0.716102\n",
       "std          0.171169\n",
       "min          0.360000\n",
       "25%          0.560000\n",
       "50%          0.720000\n",
       "75%          0.870000\n",
       "max          1.000000\n",
       "Name: last_evaluation, dtype: float64"
      ]
     },
     "execution_count": 66,
     "metadata": {},
     "output_type": "execute_result"
    }
   ],
   "source": [
    "df.last_evaluation.describe()"
   ]
  },
  {
   "cell_type": "code",
   "execution_count": 65,
   "metadata": {},
   "outputs": [
    {
     "data": {
      "text/plain": [
       "<matplotlib.axes._subplots.AxesSubplot at 0x7f600344f8d0>"
      ]
     },
     "execution_count": 65,
     "metadata": {},
     "output_type": "execute_result"
    },
    {
     "data": {
      "image/png": "[encoded data removed]",
      "text/plain": [
       "<Figure size 720x432 with 1 Axes>"
      ]
     },
     "metadata": {
      "needs_background": "light"
     },
     "output_type": "display_data"
    }
   ],
   "source": [
    "plt.figure(figsize=(10,6))\n",
    "sns.boxplot(df.last_evaluation)"
   ]
  },
  {
   "cell_type": "code",
   "execution_count": 76,
   "metadata": {},
   "outputs": [
    {
     "name": "stdout",
     "output_type": "stream",
     "text": [
      "Median 0.72\n",
      "Mean 0.7161017401160078\n",
      "Mode 0    0.55\n",
      "dtype: float64\n"
     ]
    }
   ],
   "source": [
    "print('Median', df.last_evaluation.median())\n",
    "print('Mean', df.last_evaluation.mean())\n",
    "print('Mode', df.last_evaluation.mode())"
   ]
  },
  {
   "cell_type": "markdown",
   "metadata": {},
   "source": [
    "**Distribution not totally simetric becaus mode << mean and median  \n",
    "but mean and median are almost equal**"
   ]
  },
  {
   "cell_type": "code",
   "execution_count": 97,
   "metadata": {},
   "outputs": [
    {
     "data": {
      "text/plain": [
       "-0.02661908743732169"
      ]
     },
     "execution_count": 97,
     "metadata": {},
     "output_type": "execute_result"
    }
   ],
   "source": [
    "stats.skew(df.last_evaluation)\n",
    "# little skewed to the left"
   ]
  },
  {
   "cell_type": "code",
   "execution_count": 115,
   "metadata": {},
   "outputs": [
    {
     "data": {
      "text/plain": [
       "<matplotlib.axes._subplots.AxesSubplot at 0x7f5ffdaf22e8>"
      ]
     },
     "execution_count": 115,
     "metadata": {},
     "output_type": "execute_result"
    },
    {
     "data": {
      "image/png": "[encoded data removed]",
      "text/plain": [
       "<Figure size 432x288 with 1 Axes>"
      ]
     },
     "metadata": {
      "needs_background": "light"
     },
     "output_type": "display_data"
    }
   ],
   "source": [
    "sns.distplot(df.last_evaluation)"
   ]
  },
  {
   "cell_type": "code",
   "execution_count": 121,
   "metadata": {},
   "outputs": [
    {
     "data": {
      "text/plain": [
       "4    4365\n",
       "3    4055\n",
       "5    2761\n",
       "2    2388\n",
       "6    1174\n",
       "7     256\n",
       "Name: number_project, dtype: int64"
      ]
     },
     "execution_count": 121,
     "metadata": {},
     "output_type": "execute_result"
    }
   ],
   "source": [
    "df.number_project.value_counts()"
   ]
  },
  {
   "cell_type": "code",
   "execution_count": 125,
   "metadata": {},
   "outputs": [
    {
     "data": {
      "text/plain": [
       "3     6443\n",
       "2     3244\n",
       "4     2557\n",
       "5     1473\n",
       "6      718\n",
       "10     214\n",
       "7      188\n",
       "8      162\n",
       "Name: time_spend_company, dtype: int64"
      ]
     },
     "execution_count": 125,
     "metadata": {},
     "output_type": "execute_result"
    }
   ],
   "source": [
    "df.time_spend_company.value_counts()"
   ]
  },
  {
   "cell_type": "code",
   "execution_count": 127,
   "metadata": {},
   "outputs": [
    {
     "data": {
      "text/plain": [
       "0    12830\n",
       "1     2169\n",
       "Name: work_accident, dtype: int64"
      ]
     },
     "execution_count": 127,
     "metadata": {},
     "output_type": "execute_result"
    }
   ],
   "source": [
    "# The number of accidents the employee is involved in.\n",
    "df.work_accident.value_counts()"
   ]
  },
  {
   "cell_type": "code",
   "execution_count": 130,
   "metadata": {},
   "outputs": [
    {
     "data": {
      "text/plain": [
       "0    11428\n",
       "1     3571\n",
       "Name: left_company, dtype: int64"
      ]
     },
     "execution_count": 130,
     "metadata": {},
     "output_type": "execute_result"
    }
   ],
   "source": [
    "# Did the employee leave the company? interesting target?\n",
    "df.left_company.value_counts()"
   ]
  },
  {
   "cell_type": "code",
   "execution_count": 132,
   "metadata": {},
   "outputs": [
    {
     "data": {
      "text/plain": [
       "0    14680\n",
       "1      319\n",
       "Name: promotion_last_5years, dtype: int64"
      ]
     },
     "execution_count": 132,
     "metadata": {},
     "output_type": "execute_result"
    }
   ],
   "source": [
    "# Did the employee get promoted in last 5 years?\n",
    "df.promotion_last_5years.value_counts()"
   ]
  },
  {
   "cell_type": "code",
   "execution_count": 136,
   "metadata": {},
   "outputs": [
    {
     "data": {
      "text/plain": [
       "count    14999.000000\n",
       "mean        18.553904\n",
       "std         18.987335\n",
       "min          1.000000\n",
       "25%          5.000000\n",
       "50%          9.000000\n",
       "75%         31.000000\n",
       "max         65.000000\n",
       "Name: linkedin_hits, dtype: float64"
      ]
     },
     "execution_count": 136,
     "metadata": {},
     "output_type": "execute_result"
    }
   ],
   "source": [
    "# The number of times employee visits LinkedIn networking sites.\n",
    "df.linkedin_hits.describe()"
   ]
  },
  {
   "cell_type": "code",
   "execution_count": 139,
   "metadata": {},
   "outputs": [
    {
     "data": {
      "text/plain": [
       "<matplotlib.axes._subplots.AxesSubplot at 0x7f5ffdb33cc0>"
      ]
     },
     "execution_count": 139,
     "metadata": {},
     "output_type": "execute_result"
    },
    {
     "data": {
      "image/png": "[encoded data removed]",
      "text/plain": [
       "<Figure size 432x288 with 1 Axes>"
      ]
     },
     "metadata": {
      "needs_background": "light"
     },
     "output_type": "display_data"
    }
   ],
   "source": [
    "sns.boxplot(df.linkedin_hits)"
   ]
  },
  {
   "cell_type": "code",
   "execution_count": 143,
   "metadata": {},
   "outputs": [
    {
     "data": {
      "text/plain": [
       "<matplotlib.axes._subplots.AxesSubplot at 0x7f5ffd23fa20>"
      ]
     },
     "execution_count": 143,
     "metadata": {},
     "output_type": "execute_result"
    },
    {
     "data": {
      "image/png": "[encoded data removed]",
      "text/plain": [
       "<Figure size 432x288 with 1 Axes>"
      ]
     },
     "metadata": {
      "needs_background": "light"
     },
     "output_type": "display_data"
    }
   ],
   "source": [
    "sns.distplot(df.linkedin_hits, kde=False)"
   ]
  },
  {
   "cell_type": "code",
   "execution_count": 299,
   "metadata": {},
   "outputs": [
    {
     "data": {
      "text/plain": [
       "1.072667749861693"
      ]
     },
     "execution_count": 299,
     "metadata": {},
     "output_type": "execute_result"
    }
   ],
   "source": [
    "stats.skew(df.linkedin_hits)\n",
    "# skewed to the right"
   ]
  },
  {
   "cell_type": "code",
   "execution_count": 146,
   "metadata": {},
   "outputs": [],
   "source": [
    "'''\n",
    "Indicator: emp_work_status\n",
    "One indicator from a survey that was sent to employees by a third party. Status represents how strongly employee feels about their status level in the organization.\n",
    "'''\n",
    "emp_work_columns = [column for column in df.columns if 'emp_work_status' in column]"
   ]
  },
  {
   "cell_type": "code",
   "execution_count": 150,
   "metadata": {},
   "outputs": [
    {
     "data": {
      "text/plain": [
       "emp_work_status2     0\n",
       "emp_work_status_3    0\n",
       "emp_work_status_4    0\n",
       "emp_work_status_5    0\n",
       "dtype: int64"
      ]
     },
     "execution_count": 150,
     "metadata": {},
     "output_type": "execute_result"
    }
   ],
   "source": [
    "df[emp_work_columns].isnull().sum()"
   ]
  },
  {
   "cell_type": "code",
   "execution_count": 149,
   "metadata": {},
   "outputs": [
    {
     "name": "stdout",
     "output_type": "stream",
     "text": [
      "Column 1\n",
      "3    3030\n",
      "4    3010\n",
      "1    3008\n",
      "5    2995\n",
      "2    2956\n",
      "Name: emp_work_status2, dtype: int64\n",
      "\n",
      "Column 2\n",
      "3    3057\n",
      "5    3050\n",
      "1    3013\n",
      "4    3011\n",
      "2    2868\n",
      "Name: emp_work_status_3, dtype: int64\n",
      "\n",
      "Column 3\n",
      "1    3044\n",
      "4    3026\n",
      "5    3023\n",
      "3    3009\n",
      "2    2897\n",
      "Name: emp_work_status_4, dtype: int64\n",
      "\n",
      "Column 4\n",
      "4    3064\n",
      "2    3001\n",
      "1    2990\n",
      "5    2980\n",
      "3    2964\n",
      "Name: emp_work_status_5, dtype: int64\n",
      "\n"
     ]
    }
   ],
   "source": [
    "for i, column in enumerate(df[emp_work_columns]):\n",
    "    print('Column {}'.format(i+1))\n",
    "    print(df[column].value_counts())\n",
    "    print()"
   ]
  },
  {
   "cell_type": "code",
   "execution_count": 168,
   "metadata": {},
   "outputs": [
    {
     "data": {
      "text/plain": [
       "2    6396\n",
       "1    4425\n",
       "4    2067\n",
       "3    1961\n",
       "5     150\n",
       "Name: emp_identity, dtype: int64"
      ]
     },
     "execution_count": 168,
     "metadata": {},
     "output_type": "execute_result"
    }
   ],
   "source": [
    "# How the employee identifies themselves with the company.\n",
    "df.emp_identity.value_counts()"
   ]
  },
  {
   "cell_type": "code",
   "execution_count": 160,
   "metadata": {},
   "outputs": [
    {
     "data": {
      "text/plain": [
       "0"
      ]
     },
     "execution_count": 160,
     "metadata": {},
     "output_type": "execute_result"
    }
   ],
   "source": [
    "df.emp_identity.isnull().sum()"
   ]
  },
  {
   "cell_type": "code",
   "execution_count": 163,
   "metadata": {},
   "outputs": [
    {
     "data": {
      "text/plain": [
       "2    6490\n",
       "1    4498\n",
       "3    1937\n",
       "4    1917\n",
       "5     157\n",
       "Name: emp_role, dtype: int64"
      ]
     },
     "execution_count": 163,
     "metadata": {},
     "output_type": "execute_result"
    }
   ],
   "source": [
    "# How the employee identifies themselves with the importance of their role in the company.\n",
    "df.emp_role.value_counts()"
   ]
  },
  {
   "cell_type": "code",
   "execution_count": 164,
   "metadata": {},
   "outputs": [
    {
     "data": {
      "text/plain": [
       "0"
      ]
     },
     "execution_count": 164,
     "metadata": {},
     "output_type": "execute_result"
    }
   ],
   "source": [
    "df.emp_role.isnull().sum()"
   ]
  },
  {
   "cell_type": "code",
   "execution_count": 184,
   "metadata": {},
   "outputs": [
    {
     "data": {
      "text/plain": [
       "<matplotlib.axes._subplots.AxesSubplot at 0x7f5ffc5bc898>"
      ]
     },
     "execution_count": 184,
     "metadata": {},
     "output_type": "execute_result"
    },
    {
     "data": {
      "image/png": "[encoded data removed]",
      "text/plain": [
       "<Figure size 864x576 with 2 Axes>"
      ]
     },
     "metadata": {
      "needs_background": "light"
     },
     "output_type": "display_data"
    }
   ],
   "source": [
    "f, axs = plt.subplots(ncols=2, figsize=(12,8))\n",
    "sns.countplot(df.emp_role, ax=axs[0])\n",
    "sns.countplot(df.emp_identity, ax=axs[1])"
   ]
  },
  {
   "cell_type": "code",
   "execution_count": 196,
   "metadata": {},
   "outputs": [
    {
     "data": {
      "text/html": [
       "<div>\n",
       "<style scoped>\n",
       "    .dataframe tbody tr th:only-of-type {\n",
       "        vertical-align: middle;\n",
       "    }\n",
       "\n",
       "    .dataframe tbody tr th {\n",
       "        vertical-align: top;\n",
       "    }\n",
       "\n",
       "    .dataframe thead th {\n",
       "        text-align: right;\n",
       "    }\n",
       "</style>\n",
       "<table border=\"1\" class=\"dataframe\">\n",
       "  <thead>\n",
       "    <tr style=\"text-align: right;\">\n",
       "      <th></th>\n",
       "      <th>emp_role</th>\n",
       "      <th>emp_identity</th>\n",
       "    </tr>\n",
       "  </thead>\n",
       "  <tbody>\n",
       "    <tr>\n",
       "      <th>0</th>\n",
       "      <td>1</td>\n",
       "      <td>1</td>\n",
       "    </tr>\n",
       "    <tr>\n",
       "      <th>2</th>\n",
       "      <td>1</td>\n",
       "      <td>1</td>\n",
       "    </tr>\n",
       "    <tr>\n",
       "      <th>4</th>\n",
       "      <td>1</td>\n",
       "      <td>1</td>\n",
       "    </tr>\n",
       "    <tr>\n",
       "      <th>6</th>\n",
       "      <td>1</td>\n",
       "      <td>1</td>\n",
       "    </tr>\n",
       "    <tr>\n",
       "      <th>7</th>\n",
       "      <td>2</td>\n",
       "      <td>2</td>\n",
       "    </tr>\n",
       "    <tr>\n",
       "      <th>...</th>\n",
       "      <td>...</td>\n",
       "      <td>...</td>\n",
       "    </tr>\n",
       "    <tr>\n",
       "      <th>14989</th>\n",
       "      <td>2</td>\n",
       "      <td>2</td>\n",
       "    </tr>\n",
       "    <tr>\n",
       "      <th>14990</th>\n",
       "      <td>1</td>\n",
       "      <td>1</td>\n",
       "    </tr>\n",
       "    <tr>\n",
       "      <th>14991</th>\n",
       "      <td>2</td>\n",
       "      <td>2</td>\n",
       "    </tr>\n",
       "    <tr>\n",
       "      <th>14996</th>\n",
       "      <td>1</td>\n",
       "      <td>1</td>\n",
       "    </tr>\n",
       "    <tr>\n",
       "      <th>14998</th>\n",
       "      <td>2</td>\n",
       "      <td>2</td>\n",
       "    </tr>\n",
       "  </tbody>\n",
       "</table>\n",
       "<p>6441 rows × 2 columns</p>\n",
       "</div>"
      ],
      "text/plain": [
       "       emp_role  emp_identity\n",
       "0             1             1\n",
       "2             1             1\n",
       "4             1             1\n",
       "6             1             1\n",
       "7             2             2\n",
       "...         ...           ...\n",
       "14989         2             2\n",
       "14990         1             1\n",
       "14991         2             2\n",
       "14996         1             1\n",
       "14998         2             2\n",
       "\n",
       "[6441 rows x 2 columns]"
      ]
     },
     "execution_count": 196,
     "metadata": {},
     "output_type": "execute_result"
    }
   ],
   "source": [
    "df[df.emp_role==df.emp_identity][['emp_role', 'emp_identity']]"
   ]
  },
  {
   "cell_type": "code",
   "execution_count": 194,
   "metadata": {},
   "outputs": [
    {
     "data": {
      "text/plain": [
       "0.42942862857523834"
      ]
     },
     "execution_count": 194,
     "metadata": {},
     "output_type": "execute_result"
    }
   ],
   "source": [
    "len(df[df.emp_role==df.emp_identity][['emp_role', 'emp_identity']]) / len(df) "
   ]
  },
  {
   "cell_type": "markdown",
   "metadata": {},
   "source": [
    "**employees that answeer the same on emp_identity and emp_role represents 42% of full dataset  \n",
    "they identify themselves equally with the company and the role**"
   ]
  },
  {
   "cell_type": "code",
   "execution_count": 198,
   "metadata": {},
   "outputs": [
    {
     "data": {
      "text/plain": [
       "0.2801520101340089"
      ]
     },
     "execution_count": 198,
     "metadata": {},
     "output_type": "execute_result"
    }
   ],
   "source": [
    "len(df[df.emp_role>df.emp_identity][['emp_role', 'emp_identity']]) / len(df)"
   ]
  },
  {
   "cell_type": "markdown",
   "metadata": {},
   "source": [
    "**28% identify more with the importance of their role in the company but less with the company itself**"
   ]
  },
  {
   "cell_type": "code",
   "execution_count": 199,
   "metadata": {},
   "outputs": [
    {
     "data": {
      "text/plain": [
       "0.29041936129075274"
      ]
     },
     "execution_count": 199,
     "metadata": {},
     "output_type": "execute_result"
    }
   ],
   "source": [
    "len(df[df.emp_role<df.emp_identity][['emp_role', 'emp_identity']]) / len(df)"
   ]
  },
  {
   "cell_type": "markdown",
   "metadata": {},
   "source": [
    "**29% identify more with the company than with the importance of their role**"
   ]
  },
  {
   "cell_type": "code",
   "execution_count": 205,
   "metadata": {},
   "outputs": [
    {
     "data": {
      "text/plain": [
       "2    6447\n",
       "1    4353\n",
       "4    2178\n",
       "3    1863\n",
       "5     158\n",
       "Name: emp_competitive_1, dtype: int64"
      ]
     },
     "execution_count": 205,
     "metadata": {},
     "output_type": "execute_result"
    }
   ],
   "source": [
    "'''\n",
    "Indicator: emp_competitive\n",
    "Indicator from a survey that was sent to employees by a third party. How employee feels about the competitive nature of work in the organization.\n",
    "'''"
   ]
  },
  {
   "cell_type": "code",
   "execution_count": 206,
   "metadata": {},
   "outputs": [],
   "source": [
    "emp_competitive_columns = [column for column in df.columns if 'emp_competitive' in column]"
   ]
  },
  {
   "cell_type": "code",
   "execution_count": 210,
   "metadata": {},
   "outputs": [
    {
     "data": {
      "text/plain": [
       "emp_competitive_1    0\n",
       "emp_competitive_2    0\n",
       "emp_competitive_3    0\n",
       "emp_competitive_4    0\n",
       "emp_competitive_5    0\n",
       "dtype: int64"
      ]
     },
     "execution_count": 210,
     "metadata": {},
     "output_type": "execute_result"
    }
   ],
   "source": [
    "df[emp_competitive_columns].isnull().sum()"
   ]
  },
  {
   "cell_type": "code",
   "execution_count": 211,
   "metadata": {},
   "outputs": [
    {
     "name": "stdout",
     "output_type": "stream",
     "text": [
      "Column 1\n",
      "2    6447\n",
      "1    4353\n",
      "4    2178\n",
      "3    1863\n",
      "5     158\n",
      "Name: emp_competitive_1, dtype: int64\n",
      "\n",
      "Column 2\n",
      "2    3045\n",
      "1    3042\n",
      "5    2979\n",
      "4    2979\n",
      "3    2954\n",
      "Name: emp_competitive_2, dtype: int64\n",
      "\n",
      "Column 3\n",
      "2    6318\n",
      "1    4470\n",
      "4    2121\n",
      "3    1941\n",
      "5     149\n",
      "Name: emp_competitive_3, dtype: int64\n",
      "\n",
      "Column 4\n",
      "2    3079\n",
      "4    3067\n",
      "3    2976\n",
      "1    2939\n",
      "5    2938\n",
      "Name: emp_competitive_4, dtype: int64\n",
      "\n",
      "Column 5\n",
      "3    3063\n",
      "2    3030\n",
      "1    3016\n",
      "5    2978\n",
      "4    2912\n",
      "Name: emp_competitive_5, dtype: int64\n",
      "\n"
     ]
    }
   ],
   "source": [
    "for i, column in enumerate(df[emp_competitive_columns]):\n",
    "    print('Column {}'.format(i+1))\n",
    "    print(df[column].value_counts())\n",
    "    print()"
   ]
  },
  {
   "cell_type": "code",
   "execution_count": 215,
   "metadata": {},
   "outputs": [],
   "source": [
    "'''\n",
    "Indicator : emp_collaborative\n",
    "Indicator from a survey that was sent to employees by a third party. How employee feels about the collaborative nature of work in the organization.\n",
    "'''\n",
    "\n",
    "emp_collaborative_columns = [column for column in df.columns if 'emp_collaborative' in column]"
   ]
  },
  {
   "cell_type": "code",
   "execution_count": 218,
   "metadata": {},
   "outputs": [
    {
     "data": {
      "text/plain": [
       "emp_collaborative_1    0\n",
       "emp_collaborative_2    0\n",
       "emp_collaborative_3    0\n",
       "emp_collaborative_4    0\n",
       "emp_collaborative_5    0\n",
       "dtype: int64"
      ]
     },
     "execution_count": 218,
     "metadata": {},
     "output_type": "execute_result"
    }
   ],
   "source": [
    "df[emp_collaborative_columns].isnull().sum()"
   ]
  },
  {
   "cell_type": "code",
   "execution_count": 228,
   "metadata": {},
   "outputs": [
    {
     "name": "stdout",
     "output_type": "stream",
     "text": [
      "Column 1\n",
      "2    3072\n",
      "1    3038\n",
      "3    2982\n",
      "4    2973\n",
      "5    2934\n",
      "Name: emp_collaborative_1, dtype: int64\n",
      "\n",
      "Column 2\n",
      "1    7072\n",
      "2    7035\n",
      "4     460\n",
      "5     432\n",
      "Name: emp_collaborative_2, dtype: int64\n",
      "\n",
      "Column 3\n",
      "3    3020\n",
      "2    3020\n",
      "4    3012\n",
      "1    2977\n",
      "5    2970\n",
      "Name: emp_collaborative_3, dtype: int64\n",
      "\n",
      "Column 4\n",
      "3    3053\n",
      "4    3008\n",
      "5    2992\n",
      "2    2978\n",
      "1    2968\n",
      "Name: emp_collaborative_4, dtype: int64\n",
      "\n",
      "Column 5\n",
      "4    3092\n",
      "2    3044\n",
      "5    3024\n",
      "1    2921\n",
      "3    2918\n",
      "Name: emp_collaborative_5, dtype: int64\n",
      "\n"
     ]
    }
   ],
   "source": [
    "for i, column in enumerate(df[emp_collaborative_columns]):\n",
    "    print('Column {}'.format(i+1))\n",
    "    print(df[column].value_counts())\n",
    "    print()"
   ]
  },
  {
   "cell_type": "code",
   "execution_count": 234,
   "metadata": {},
   "outputs": [
    {
     "data": {
      "text/plain": [
       "0"
      ]
     },
     "execution_count": 234,
     "metadata": {},
     "output_type": "execute_result"
    }
   ],
   "source": [
    "# Sentient devices are used to capture certain employee activities. In this case number of steps.\n",
    "df.sensor_stepcount.isnull().sum()"
   ]
  },
  {
   "cell_type": "code",
   "execution_count": 244,
   "metadata": {},
   "outputs": [
    {
     "data": {
      "text/plain": [
       "count    14999.000000\n",
       "mean      3406.693246\n",
       "std       1755.742272\n",
       "min       1000.000000\n",
       "25%       1704.500000\n",
       "50%       3376.000000\n",
       "75%       4893.000000\n",
       "max       8500.000000\n",
       "Name: sensor_stepcount, dtype: float64"
      ]
     },
     "execution_count": 244,
     "metadata": {},
     "output_type": "execute_result"
    }
   ],
   "source": [
    "df.sensor_stepcount.describe()"
   ]
  },
  {
   "cell_type": "code",
   "execution_count": 248,
   "metadata": {},
   "outputs": [
    {
     "data": {
      "text/plain": [
       "count    14999.000000\n",
       "mean        77.967198\n",
       "std          7.252848\n",
       "min         60.000000\n",
       "25%         75.000000\n",
       "50%         78.000000\n",
       "75%         85.000000\n",
       "max         90.000000\n",
       "Name: sensor_heartbeat(average/min), dtype: float64"
      ]
     },
     "execution_count": 248,
     "metadata": {},
     "output_type": "execute_result"
    }
   ],
   "source": [
    "# Sentient devices are used to capture certain employee activities. In this case heartbeat.\n",
    "df['sensor_heartbeat(average/min)'].describe()"
   ]
  },
  {
   "cell_type": "code",
   "execution_count": 249,
   "metadata": {},
   "outputs": [
    {
     "data": {
      "text/plain": [
       "0"
      ]
     },
     "execution_count": 249,
     "metadata": {},
     "output_type": "execute_result"
    }
   ],
   "source": [
    "df['sensor_heartbeat(average/min)'].isnull().sum()"
   ]
  },
  {
   "cell_type": "code",
   "execution_count": 251,
   "metadata": {},
   "outputs": [
    {
     "data": {
      "text/plain": [
       "count    14999.000000\n",
       "mean         6.399360\n",
       "std          2.588091\n",
       "min          1.000000\n",
       "25%          5.000000\n",
       "50%          7.000000\n",
       "75%          8.000000\n",
       "max         10.000000\n",
       "Name: sensor_proximity(1-highest/10-lowest), dtype: float64"
      ]
     },
     "execution_count": 251,
     "metadata": {},
     "output_type": "execute_result"
    }
   ],
   "source": [
    "# Sentient devices are used to capture certain employee activities. In this case how close they are to their company laptop.\n",
    "df['sensor_proximity(1-highest/10-lowest)'].describe()"
   ]
  },
  {
   "cell_type": "markdown",
   "metadata": {},
   "source": [
    "**what this sensors information really means?**"
   ]
  },
  {
   "cell_type": "markdown",
   "metadata": {},
   "source": [
    "____________________________________________________________________________________"
   ]
  },
  {
   "cell_type": "markdown",
   "metadata": {},
   "source": [
    "## 2.0 - Basic Data Cleaning"
   ]
  },
  {
   "cell_type": "code",
   "execution_count": 254,
   "metadata": {},
   "outputs": [
    {
     "data": {
      "text/html": [
       "<div>\n",
       "<style scoped>\n",
       "    .dataframe tbody tr th:only-of-type {\n",
       "        vertical-align: middle;\n",
       "    }\n",
       "\n",
       "    .dataframe tbody tr th {\n",
       "        vertical-align: top;\n",
       "    }\n",
       "\n",
       "    .dataframe thead th {\n",
       "        text-align: right;\n",
       "    }\n",
       "</style>\n",
       "<table border=\"1\" class=\"dataframe\">\n",
       "  <thead>\n",
       "    <tr style=\"text-align: right;\">\n",
       "      <th></th>\n",
       "      <th>name</th>\n",
       "      <th>department</th>\n",
       "      <th>geo</th>\n",
       "      <th>role</th>\n",
       "      <th>sales</th>\n",
       "      <th>salary</th>\n",
       "      <th>gender</th>\n",
       "    </tr>\n",
       "  </thead>\n",
       "  <tbody>\n",
       "    <tr>\n",
       "      <th>0</th>\n",
       "      <td>BRADDY</td>\n",
       "      <td>Operations</td>\n",
       "      <td>US</td>\n",
       "      <td>VP</td>\n",
       "      <td>sales</td>\n",
       "      <td>low</td>\n",
       "      <td>M</td>\n",
       "    </tr>\n",
       "    <tr>\n",
       "      <th>1</th>\n",
       "      <td>BORST</td>\n",
       "      <td>Sales</td>\n",
       "      <td>UK</td>\n",
       "      <td>Senior Director</td>\n",
       "      <td>accounting</td>\n",
       "      <td>low</td>\n",
       "      <td>F</td>\n",
       "    </tr>\n",
       "    <tr>\n",
       "      <th>2</th>\n",
       "      <td>BIRDWELL</td>\n",
       "      <td>Finance</td>\n",
       "      <td>France</td>\n",
       "      <td>Senior Director</td>\n",
       "      <td>product_mng</td>\n",
       "      <td>medium</td>\n",
       "      <td>F</td>\n",
       "    </tr>\n",
       "    <tr>\n",
       "      <th>3</th>\n",
       "      <td>BENT</td>\n",
       "      <td>Human Resources</td>\n",
       "      <td>China</td>\n",
       "      <td>Senior Director</td>\n",
       "      <td>product_mng</td>\n",
       "      <td>high</td>\n",
       "      <td>M</td>\n",
       "    </tr>\n",
       "    <tr>\n",
       "      <th>4</th>\n",
       "      <td>BAZAN</td>\n",
       "      <td>IT</td>\n",
       "      <td>Korea</td>\n",
       "      <td>Director</td>\n",
       "      <td>sales</td>\n",
       "      <td>low</td>\n",
       "      <td>F</td>\n",
       "    </tr>\n",
       "    <tr>\n",
       "      <th>...</th>\n",
       "      <td>...</td>\n",
       "      <td>...</td>\n",
       "      <td>...</td>\n",
       "      <td>...</td>\n",
       "      <td>...</td>\n",
       "      <td>...</td>\n",
       "      <td>...</td>\n",
       "    </tr>\n",
       "    <tr>\n",
       "      <th>14994</th>\n",
       "      <td>EARLY</td>\n",
       "      <td>Operations</td>\n",
       "      <td>Korea</td>\n",
       "      <td>Level 2-4</td>\n",
       "      <td>technical</td>\n",
       "      <td>medium</td>\n",
       "      <td>F</td>\n",
       "    </tr>\n",
       "    <tr>\n",
       "      <th>14995</th>\n",
       "      <td>LUNSFORD</td>\n",
       "      <td>Sales</td>\n",
       "      <td>Australia</td>\n",
       "      <td>Level 2-4</td>\n",
       "      <td>technical</td>\n",
       "      <td>medium</td>\n",
       "      <td>F</td>\n",
       "    </tr>\n",
       "    <tr>\n",
       "      <th>14996</th>\n",
       "      <td>GOLDSMITH</td>\n",
       "      <td>Finance</td>\n",
       "      <td>China</td>\n",
       "      <td>Level 2-4</td>\n",
       "      <td>sales</td>\n",
       "      <td>low</td>\n",
       "      <td>F</td>\n",
       "    </tr>\n",
       "    <tr>\n",
       "      <th>14997</th>\n",
       "      <td>FLOOD</td>\n",
       "      <td>Human Resources</td>\n",
       "      <td>US</td>\n",
       "      <td>Level 2-4</td>\n",
       "      <td>accounting</td>\n",
       "      <td>medium</td>\n",
       "      <td>M</td>\n",
       "    </tr>\n",
       "    <tr>\n",
       "      <th>14998</th>\n",
       "      <td>Yolo</td>\n",
       "      <td>IT</td>\n",
       "      <td>Colombia</td>\n",
       "      <td>Level 2-4</td>\n",
       "      <td>sales</td>\n",
       "      <td>low</td>\n",
       "      <td>F</td>\n",
       "    </tr>\n",
       "  </tbody>\n",
       "</table>\n",
       "<p>14999 rows × 7 columns</p>\n",
       "</div>"
      ],
      "text/plain": [
       "            name       department        geo             role        sales  \\\n",
       "0         BRADDY       Operations         US               VP        sales   \n",
       "1          BORST            Sales         UK  Senior Director   accounting   \n",
       "2       BIRDWELL          Finance     France  Senior Director  product_mng   \n",
       "3           BENT  Human Resources      China  Senior Director  product_mng   \n",
       "4          BAZAN               IT      Korea         Director        sales   \n",
       "...          ...              ...        ...              ...          ...   \n",
       "14994      EARLY       Operations      Korea        Level 2-4    technical   \n",
       "14995   LUNSFORD            Sales  Australia        Level 2-4    technical   \n",
       "14996  GOLDSMITH          Finance      China        Level 2-4        sales   \n",
       "14997      FLOOD  Human Resources         US        Level 2-4   accounting   \n",
       "14998       Yolo               IT   Colombia        Level 2-4        sales   \n",
       "\n",
       "       salary gender  \n",
       "0         low      M  \n",
       "1         low      F  \n",
       "2      medium      F  \n",
       "3        high      M  \n",
       "4         low      F  \n",
       "...       ...    ...  \n",
       "14994  medium      F  \n",
       "14995  medium      F  \n",
       "14996     low      F  \n",
       "14997  medium      M  \n",
       "14998     low      F  \n",
       "\n",
       "[14999 rows x 7 columns]"
      ]
     },
     "execution_count": 254,
     "metadata": {},
     "output_type": "execute_result"
    }
   ],
   "source": [
    "df.select_dtypes('object')"
   ]
  },
  {
   "cell_type": "markdown",
   "metadata": {},
   "source": [
    "**Will drop the columns that are probably not significant for future analysis**\n",
    "- name (will use only id for identification)\n",
    "- sales (no info about this column)\n",
    "- sensor_stepcount\n",
    "- sensor_heartbeat(average/min)\n",
    "- sensor_proximity(1-highest/10-lowest)\n",
    "\n",
    "this data can be included in the future on feature engineering and model tunning"
   ]
  },
  {
   "cell_type": "code",
   "execution_count": 286,
   "metadata": {},
   "outputs": [
    {
     "data": {
      "text/plain": [
       "<matplotlib.axes._subplots.AxesSubplot at 0x7f5ff1bdffd0>"
      ]
     },
     "execution_count": 286,
     "metadata": {},
     "output_type": "execute_result"
    },
    {
     "data": {
      "image/png": "[encoded data removed]",
      "text/plain": [
       "<Figure size 1296x1296 with 2 Axes>"
      ]
     },
     "metadata": {
      "needs_background": "light"
     },
     "output_type": "display_data"
    }
   ],
   "source": [
    "plt.figure(figsize=(18,18))\n",
    "sns.heatmap(df.corr())"
   ]
  },
  {
   "cell_type": "code",
   "execution_count": 293,
   "metadata": {},
   "outputs": [],
   "source": [
    "drop_columns = ['name', 'sales', 'sensor_stepcount', 'sensor_heartbeat(average/min)', 'sensor_proximity(1-highest/10-lowest)']\n",
    "df.drop(drop_columns, axis=1, inplace=True)"
   ]
  },
  {
   "cell_type": "code",
   "execution_count": 295,
   "metadata": {},
   "outputs": [],
   "source": [
    "df.to_csv('./data/dataset_cleaned_1.csv')"
   ]
  },
  {
   "cell_type": "code",
   "execution_count": null,
   "metadata": {},
   "outputs": [],
   "source": []
  }
 ],
 "metadata": {
  "kernelspec": {
   "display_name": "Python 3",
   "language": "python",
   "name": "python3"
  },
  "language_info": {
   "codemirror_mode": {
    "name": "ipython",
    "version": 3
   },
   "file_extension": ".py",
   "mimetype": "text/x-python",
   "name": "python",
   "nbconvert_exporter": "python",
   "pygments_lexer": "ipython3",
   "version": "3.6.9"
  }
 },
 "nbformat": 4,
 "nbformat_minor": 4
}
